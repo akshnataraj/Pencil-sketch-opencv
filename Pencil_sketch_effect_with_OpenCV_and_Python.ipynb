{
  "nbformat": 4,
  "nbformat_minor": 0,
  "metadata": {
    "colab": {
      "name": "Pencil sketch effect with OpenCV and Python.ipynb",
      "provenance": [],
      "authorship_tag": "ABX9TyMt1PDym2NmyiBY31QtdUXU"
    },
    "kernelspec": {
      "name": "python3",
      "display_name": "Python 3"
    }
  },
  "cells": [
    {
      "cell_type": "code",
      "metadata": {
        "id": "kFLX9tZtc8_V",
        "colab_type": "code",
        "colab": {
          "base_uri": "https://localhost:8080/",
          "height": 52
        },
        "outputId": "a9ee095f-991c-46fe-f231-b6d6de1fe1cc"
      },
      "source": [
        "!pip install cv2"
      ],
      "execution_count": 2,
      "outputs": [
        {
          "output_type": "stream",
          "text": [
            "\u001b[31mERROR: Could not find a version that satisfies the requirement cv2 (from versions: none)\u001b[0m\n",
            "\u001b[31mERROR: No matching distribution found for cv2\u001b[0m\n"
          ],
          "name": "stdout"
        }
      ]
    },
    {
      "cell_type": "code",
      "metadata": {
        "id": "kuafDwmvdbu3",
        "colab_type": "code",
        "colab": {}
      },
      "source": [
        "import cv2"
      ],
      "execution_count": 68,
      "outputs": []
    },
    {
      "cell_type": "code",
      "metadata": {
        "id": "ZDHNPT_ddich",
        "colab_type": "code",
        "colab": {}
      },
      "source": [
        "img_rgb = cv2.imread(\"m_rgb.PNG\")\n",
        "img_gray = cv2.cvtColor(img_rgb, cv2.COLOR_BGR2GRAY)"
      ],
      "execution_count": 69,
      "outputs": []
    },
    {
      "cell_type": "code",
      "metadata": {
        "id": "mRQh2GGVeBbF",
        "colab_type": "code",
        "colab": {}
      },
      "source": [
        "img_gray_inv = 255 - img_gray\n",
        "img_blur = cv2.GaussianBlur(img_gray_inv, ksize=(21, 21),\n",
        "                            sigmaX=0, sigmaY=0)"
      ],
      "execution_count": 70,
      "outputs": []
    },
    {
      "cell_type": "code",
      "metadata": {
        "id": "vfAG_McVeKom",
        "colab_type": "code",
        "colab": {}
      },
      "source": [
        "def dodgeV2(image, mask):\n",
        "  return cv2.divide(image, 255-mask, scale=256)\n",
        "\n",
        "def burnV2(image, mask):\n",
        "  return cv2.divide(255-image, 255-mask, scale=256)\n"
      ],
      "execution_count": 71,
      "outputs": []
    },
    {
      "cell_type": "code",
      "metadata": {
        "id": "I5Paj367eYVr",
        "colab_type": "code",
        "colab": {}
      },
      "source": [
        "from google.colab.patches import cv2_imshow"
      ],
      "execution_count": 72,
      "outputs": []
    },
    {
      "cell_type": "code",
      "metadata": {
        "id": "AzTFT27te6Je",
        "colab_type": "code",
        "colab": {}
      },
      "source": [
        "img_blend = dodgeV2(img_gray, img_blur)\n",
        "cv2_imshow(img_blend)"
      ],
      "execution_count": null,
      "outputs": []
    },
    {
      "cell_type": "code",
      "metadata": {
        "id": "D2oOmRbKg8R8",
        "colab_type": "code",
        "colab": {}
      },
      "source": [
        " "
      ],
      "execution_count": null,
      "outputs": []
    }
  ]
}